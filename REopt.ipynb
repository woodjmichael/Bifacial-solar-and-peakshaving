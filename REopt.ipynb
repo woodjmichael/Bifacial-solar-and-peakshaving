{
 "cells": [
  {
   "cell_type": "markdown",
   "metadata": {},
   "source": [
    "# REopt\n",
    "\n",
    "- API structure: https://developer.nrel.gov/api/reopt/stable/help?API_KEY=DEMO_KEY\n",
    "- Models.py: https://github.com/NREL/REopt_API/blob/master/reoptjl/models.py"
   ]
  },
  {
   "cell_type": "code",
   "execution_count": 104,
   "metadata": {},
   "outputs": [],
   "source": [
    "import os, sys, json\n",
    "import shutil\n",
    "import time\n",
    "import yaml\n",
    "import schedule\n",
    "import pandas as pd\n",
    "from src.post_and_poll import get_api_results\n",
    "from utils import import_df, import_json, export_json, plotly_stacked, parse_dispatch_series, setup\n",
    "\n",
    "# to silence warnigns\n",
    "# InsecureRequestWarning: Unverified HTTPS request is being made to host 'developer.nrel.gov'. Adding certificate verification is strongly advised.\n",
    "import urllib3\n",
    "urllib3.disable_warnings()\n",
    "\n",
    "pd.options.plotting.backend='plotly'\n",
    "\n",
    "API_KEY = '0bgdMrMpcFEfzIuYLRFpEfPeUqabOQKo5RagyRPV' "
   ]
  },
  {
   "cell_type": "code",
   "execution_count": 105,
   "metadata": {},
   "outputs": [],
   "source": [
    "def create_post(cfg,array,solar_kw,batt_kw,batt_h,solar_kw_range=False,batt_kw_range=False,batt_h_range=False):\n",
    "    post = cfg.post\n",
    "    \n",
    "    post['PV'].update({ \"min_kw\":solar_kw,\n",
    "                        \"max_kw\":solar_kw,            \n",
    "                        \"production_factor_series\":import_df(cfg.solar_file,array,\n",
    "                                                             resamp=cfg.solar_resamp,\n",
    "                                                             scale=cfg.solar_scaler)})\n",
    "    if solar_kw_range:\n",
    "        post['PV'].update({ \"min_kw\":0})\n",
    "    \n",
    "    post['ElectricLoad'].update({'loads_kw':import_df(cfg.load_file,cfg.load_col,\n",
    "                                                      resamp=cfg.load_resamp)})\n",
    "            \n",
    "    post['ElectricStorage'].update({\n",
    "            \"min_kw\":batt_kw,               \"max_kw\":batt_kw,\n",
    "            \"min_kwh\":batt_kw*batt_h,       \"max_kwh\":batt_kw*batt_h,})\n",
    "    if batt_kw_range:\n",
    "        post['ElectricStorage'].update({\"min_kw\":0})\n",
    "    if batt_h_range:\n",
    "        post['ElectricStorage'].update({\"min_kwh\":0})    \n",
    "\n",
    "    post[\"ElectricTariff\"].update({\n",
    "        \"urdb_response\":import_json(cfg.tariff_file),\n",
    "        'wholesale_rate':[cfg.energy_price_sell_constant]*(8760*post['Settings']['time_steps_per_hour']),\n",
    "        #'wholesale_rate':import_df('data/PG&E NBT EEC Values 2024 Vintage.csv','Price'),\n",
    "    })\n",
    "    \n",
    "    export_json(post,cfg.outdir)\n",
    "    \n",
    "    return post\n",
    "\n",
    "def run_reopt(post, print_results=False):\n",
    "\n",
    "    outputs_file_name = \"results_file\"\n",
    "    root_url = \"https://developer.nrel.gov/api/reopt/stable\" # /stable == /v3 \n",
    "    \n",
    "    try:\n",
    "        api_response = get_api_results(post=post, \n",
    "                                    API_KEY=API_KEY, \n",
    "                                    api_url=root_url, \n",
    "                                    results_file= f'outputs/{outputs_file_name}.json', \n",
    "                                    run_id=None)\n",
    "    except:\n",
    "        print('API request failed')\n",
    "        \n",
    "    if api_response is not None:\n",
    "        cost =      api_response[\"outputs\"][\"ElectricTariff\"][\"year_one_energy_cost_before_tax\"]\n",
    "        revenue =   api_response[\"outputs\"][\"ElectricTariff\"][\"year_one_export_benefit_before_tax\"]\n",
    "        netcost =   cost - revenue\n",
    "        npv =       api_response['outputs']['Financial']['npv']\n",
    "        spp =       api_response['outputs']['Financial']['simple_payback_years']\n",
    "\n",
    "        if print_results:    \n",
    "            print('Status = ',              api_response[\"status\"])\n",
    "            print(\"Energy cost ($) = \",     cost)\n",
    "            print('Energy revenue ($) = ',  revenue)\n",
    "            print('Net cost ($) = ',        netcost)\n",
    "            print('NPV ($) and Payback Period (y) = ',        npv, spp)\n",
    "            print('PV Size (kW) = ',        api_response[\"outputs\"][\"PV\"][\"size_kw\"])\n",
    "            if \"ElectricStorage\" in api_response[\"outputs\"].keys():\n",
    "                print('Storage Size (kW-kwh) = ',api_response[\"outputs\"][\"ElectricStorage\"][\"size_kw\"],'-',api_response[\"outputs\"][\"ElectricStorage\"][\"size_kwh\"])\n",
    "    else:\n",
    "        print('API request failed')\n",
    "        cost,netcost = pd.NA,pd.NA\n",
    "        \n",
    "    return api_response, cost, netcost\n",
    "        \n",
    "def compare_to_s20(cfg,solar_kw:int,batt_kw:int,batt_h:int,print_results=False):\n",
    "    cost_red,cost_red_pct,netcost_red = [], [], []\n",
    "    post = create_post(cfg,'0w90',solar_kw,batt_kw,batt_h)\n",
    "    _, cost_base, netcost_base = run_reopt(post,print_results)\n",
    "    for array in cfg.arrays:\n",
    "        try:\n",
    "            post = create_post(cfg,f'{array}w90',solar_kw,batt_kw,batt_h)\n",
    "            _, cost, netcost = run_reopt(post,print_results)\n",
    "            cost_red.append(        cost_base - cost)\n",
    "            cost_red_pct.append(    1 - cost/abs(cost_base))\n",
    "            netcost_red.append(     netcost_base - netcost)\n",
    "            if print_results:\n",
    "                print(f'\\nCost Reduction {array} ($) = {cost_base-cost:.2f} ({100*(1-cost/abs(cost_base)):.1f}%)')\n",
    "                print(f'NetCost Reduction {array} ($) = {netcost_base-netcost:.2f} ({100*(1-netcost/abs(netcost_base)):.1f}%)\\n')\n",
    "        except:\n",
    "            cost_red.append(        pd.NA)\n",
    "            cost_red_pct.append(    pd.NA)\n",
    "            netcost_red.append(     pd.NA)\n",
    "    return cost_base, cost_red, cost_red_pct, netcost_red"
   ]
  },
  {
   "cell_type": "markdown",
   "metadata": {},
   "source": [
    "# Setup"
   ]
  },
  {
   "cell_type": "code",
   "execution_count": 107,
   "metadata": {},
   "outputs": [],
   "source": [
    "cfg = setup('reopt.yaml')"
   ]
  },
  {
   "cell_type": "markdown",
   "metadata": {},
   "source": [
    "# Single run"
   ]
  },
  {
   "cell_type": "code",
   "execution_count": 115,
   "metadata": {},
   "outputs": [
    {
     "name": "stdout",
     "output_type": "stream",
     "text": [
      "Status =  optimal\n",
      "Energy cost ($) =  4348.73\n",
      "Energy revenue ($) =  7722.0\n",
      "Net cost ($) =  -3373.2700000000004\n",
      "NPV ($) and Payback Period (y) =  -181360.43 0.0\n",
      "PV Size (kW) =  200.0\n",
      "Storage Size (kW-kwh) =  25.0 - 50.0\n",
      "4348.73 -3373.2700000000004\n"
     ]
    }
   ],
   "source": [
    "post = create_post(cfg,'0w90',200,25,2)\n",
    "api_response, cost, netcost = run_reopt(post,print_results=True)\n",
    "print(cost, netcost)"
   ]
  },
  {
   "cell_type": "markdown",
   "metadata": {},
   "source": [
    "# Grid search"
   ]
  },
  {
   "cell_type": "code",
   "execution_count": null,
   "metadata": {},
   "outputs": [],
   "source": [
    "cols = ['SolarKW','BattKW','BattH','BaseCost']\n",
    "df = pd.DataFrame([],columns=cols   + [f'Reduc_{x}w90' for x in cfg.arrays]\\\n",
    "                                    + [f'Reduc%_{x}w90' for x in cfg.arrays]\\\n",
    "                                    + [f'NetReduc_{x}w90' for x in cfg.arrays])\n",
    "\n",
    "#best_cost_red_pct = 0\n",
    "#best_resp = None\n",
    "\n",
    "if cfg.test:\n",
    "    cfg.solar_kws   = [cfg.solar_kws[0]]\n",
    "    cfg.batt_kws    = [cfg.batt_kws[0]]\n",
    "    cfg.batt_hs     = [cfg.batt_hs[0]]\n",
    "\n",
    "for solar_kw in cfg.solar_kws:\n",
    "    for batt_kw in cfg.batt_kws:\n",
    "        for batt_h in cfg.batt_hs:\n",
    "            basecost, cost_red, cost_red_pct, netcost_red = compare_to_s20(cfg,solar_kw,batt_kw,batt_h,print_results=False)\n",
    "            df.loc[len(df)] = [solar_kw,batt_kw,batt_h,basecost]+cost_red+cost_red_pct+netcost_red\n",
    "            df.to_csv(cfg.outdir+'results.csv',index=False)\n",
    "            print(df.iloc[:,:7])\n",
    "            \n",
    "            # for x,r,n in zip(cost_red_pct,resp,arrays):\n",
    "            #     if x > best_cost_red_pct:\n",
    "            #         best_cost_red_pct = x\n",
    "            #         best_resp = r\n",
    "            #         df.iloc[-1,:].to_csv(f'outputs/best_result_{n}.csv')\n",
    "            \n",
    "df"
   ]
  },
  {
   "cell_type": "markdown",
   "metadata": {},
   "source": [
    "# Plot"
   ]
  },
  {
   "cell_type": "code",
   "execution_count": null,
   "metadata": {},
   "outputs": [],
   "source": [
    "# dispatch = parse_dispatch_series(api_response)\n",
    "# f = plotly_stacked(dispatch,solar='pv',load='load',batt='batt',utility='grid',soc='soc',theme='plotly_dark')"
   ]
  },
  {
   "cell_type": "markdown",
   "metadata": {},
   "source": [
    "# Schedule"
   ]
  },
  {
   "cell_type": "code",
   "execution_count": 6,
   "metadata": {},
   "outputs": [],
   "source": [
    "def job(tariff_name):\n",
    "    try:\n",
    "        with open('tariff_gs.yaml', 'r') as f:\n",
    "            d=yaml.safe_load(f)\n",
    "            \n",
    "            d['tariff_file'] = f'tariff/{tariff_name}.json'\n",
    "            \n",
    "        with open('tariff_gs.yaml', 'w') as f:\n",
    "            yaml.dump(d, f)\n",
    "            \n",
    "        cfg = setup('tariff_gs.yaml')\n",
    "        \n",
    "        cols = ['SolarKW','BattKW','BattH','BaseCost']\n",
    "        df = pd.DataFrame([],columns=cols   + [f'Reduc_{x}w90' for x in cfg.arrays]\\\n",
    "                                            + [f'Reduc%_{x}w90' for x in cfg.arrays]\\\n",
    "                                            + [f'NetReduc_{x}w90' for x in cfg.arrays])\n",
    "        if cfg.test:\n",
    "            cfg.solar_kws   = [cfg.solar_kws[0]]\n",
    "            cfg.batt_kws    = [cfg.batt_kws[0]]\n",
    "            cfg.batt_hs     = [cfg.batt_hs[0]]\n",
    "\n",
    "        for solar_kw in cfg.solar_kws:\n",
    "            for batt_kw in cfg.batt_kws:\n",
    "                for batt_h in cfg.batt_hs:\n",
    "                    basecost, cost_red, cost_red_pct, netcost_red = compare_to_s20(cfg,solar_kw,batt_kw,batt_h,print_results=False)\n",
    "                    df.loc[len(df)] = [solar_kw,batt_kw,batt_h,basecost]+cost_red+cost_red_pct+netcost_red\n",
    "                    df.to_csv(cfg.outdir+'results.csv',index=False)\n",
    "                    print(df.iloc[:,:7])\n",
    "    except:\n",
    "        pass"
   ]
  },
  {
   "cell_type": "code",
   "execution_count": null,
   "metadata": {},
   "outputs": [],
   "source": [
    "schedule.every().day.at('00:33').do(job,tariff_name='h4_18-22')\n",
    "\n",
    "schedule.every().day.at('01:03').do(job,tariff_name='h2_6-8')\n",
    "schedule.every().day.at('01:33').do(job,tariff_name='h2_8-10')\n",
    "schedule.every().day.at('02:03').do(job,tariff_name='h2_10-12')\n",
    "schedule.every().day.at('02:33').do(job,tariff_name='h2_12-14')\n",
    "schedule.every().day.at('03:03').do(job,tariff_name='h2_14-16')\n",
    "schedule.every().day.at('03:33').do(job,tariff_name='h2_16-18')\n",
    "schedule.every().day.at('04:03').do(job,tariff_name='h2_17-19')\n",
    "schedule.every().day.at('04:33').do(job,tariff_name='h2_18-20')\n",
    "schedule.every().day.at('05:03').do(job,tariff_name='h2_19-21')\n",
    "schedule.every().day.at('05:33').do(job,tariff_name='h2_20-22')\n",
    "\n",
    "schedule.every().day.at('06:03').do(job,tariff_name='h3_6-9')\n",
    "schedule.every().day.at('06:33').do(job,tariff_name='h3_8-11')\n",
    "schedule.every().day.at('07:03').do(job,tariff_name='h3_10-13')\n",
    "schedule.every().day.at('07:33').do(job,tariff_name='h3_12-15')\n",
    "schedule.every().day.at('08:03').do(job,tariff_name='h3_14-17')\n",
    "schedule.every().day.at('08:33').do(job,tariff_name='h3_16-19')\n",
    "schedule.every().day.at('09:03').do(job,tariff_name='h3_17-20')\n",
    "schedule.every().day.at('09:33').do(job,tariff_name='h3_18-21')\n",
    "schedule.every().day.at('10:03').do(job,tariff_name='h3_19-22')\n",
    "\n",
    "while True:\n",
    "    schedule.run_pending()\n",
    "    time.sleep(1)"
   ]
  }
 ],
 "metadata": {
  "@webio": {
   "lastCommId": null,
   "lastKernelId": null
  },
  "kernelspec": {
   "display_name": "Python 3",
   "language": "python",
   "name": "python3"
  },
  "language_info": {
   "codemirror_mode": {
    "name": "ipython",
    "version": 3
   },
   "file_extension": ".py",
   "mimetype": "text/x-python",
   "name": "python",
   "nbconvert_exporter": "python",
   "pygments_lexer": "ipython3",
   "version": "3.11.0"
  },
  "latex_envs": {
   "LaTeX_envs_menu_present": true,
   "autoclose": false,
   "autocomplete": true,
   "bibliofile": "biblio.bib",
   "cite_by": "apalike",
   "current_citInitial": 1,
   "eqLabelWithNumbers": true,
   "eqNumInitial": 1,
   "hotkeys": {
    "equation": "Ctrl-E",
    "itemize": "Ctrl-I"
   },
   "labels_anchors": false,
   "latex_user_defs": false,
   "report_style_numbering": false,
   "user_envs_cfg": false
  }
 },
 "nbformat": 4,
 "nbformat_minor": 4
}
