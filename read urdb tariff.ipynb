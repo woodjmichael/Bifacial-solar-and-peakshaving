{
 "cells": [
  {
   "cell_type": "code",
   "execution_count": 34,
   "metadata": {},
   "outputs": [],
   "source": [
    "import json\n",
    "import datetime\n",
    "\n",
    "with open('data/tariff/PGE_E20.json', 'r') as file:\n",
    "    tariff = json.load(file)\n",
    "    \n",
    "t = datetime.datetime.now()\n",
    "\n",
    "if t.weekday in [0,1,2,3,4]:\n",
    "    weekend_or_weekday = 'weekday'\n",
    "else:\n",
    "    weekend_or_weekday = 'weekend'\n",
    "    \n",
    "tou_level = tariff[f'demand{weekend_or_weekday}schedule'][t.month-1][t.hour]\n",
    "demand_rate = tariff['demandratestructure'][tou_level-1][0]['rate']"
   ]
  }
 ],
 "metadata": {
  "kernelspec": {
   "display_name": "base",
   "language": "python",
   "name": "python3"
  },
  "language_info": {
   "codemirror_mode": {
    "name": "ipython",
    "version": 3
   },
   "file_extension": ".py",
   "mimetype": "text/x-python",
   "name": "python",
   "nbconvert_exporter": "python",
   "pygments_lexer": "ipython3",
   "version": "3.11.0"
  }
 },
 "nbformat": 4,
 "nbformat_minor": 2
}
