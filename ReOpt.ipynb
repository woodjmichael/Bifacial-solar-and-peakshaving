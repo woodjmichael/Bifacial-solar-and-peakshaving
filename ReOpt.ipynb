{
 "cells": [
  {
   "cell_type": "markdown",
   "metadata": {},
   "source": [
    "# ReOpt\n",
    "\n",
    "- API structure: https://developer.nrel.gov/api/reopt/stable/help?API_KEY=DEMO_KEY\n",
    "- Models.py: https://github.com/NREL/REopt_API/blob/master/reoptjl/models.py"
   ]
  },
  {
   "cell_type": "code",
   "execution_count": 2,
   "metadata": {},
   "outputs": [],
   "source": [
    "import os, sys, json\n",
    "import shutil\n",
    "import time\n",
    "import yaml\n",
    "import schedule\n",
    "import pandas as pd\n",
    "from src.post_and_poll import get_api_results\n",
    "from utils import import_df, import_json, export_json, plotly_stacked, parse_dispatch_series, setup\n",
    "\n",
    "# to silence warnigns\n",
    "# InsecureRequestWarning: Unverified HTTPS request is being made to host 'developer.nrel.gov'. Adding certificate verification is strongly advised.\n",
    "import urllib3\n",
    "urllib3.disable_warnings()\n",
    "\n",
    "pd.options.plotting.backend='plotly'\n",
    "\n",
    "API_KEY = '0bgdMrMpcFEfzIuYLRFpEfPeUqabOQKo5RagyRPV' "
   ]
  },
  {
   "cell_type": "code",
   "execution_count": 3,
   "metadata": {},
   "outputs": [],
   "source": [
    "def create_post(cfg,array,solar_kw,batt_kw,batt_h,solar_kw_range=False,batt_kw_range=False,batt_h_range=False):\n",
    "    post = {}\n",
    "    post['Site'] = cfg.Site\n",
    "    post['PV'] = cfg.PV\n",
    "    post['ElectricLoad'] = cfg.ElectricLoad\n",
    "    post['ElectricStorage'] = cfg.ElectricStorage\n",
    "    post['ElectricTariff'] = cfg.ElectricTariff\n",
    "    post['ElectricUtility'] = cfg.ElectricUtility\n",
    "    post['Financial'] = cfg.Financial\n",
    "    \n",
    "    post['PV'].update({ \"min_kw\":solar_kw,\n",
    "                        \"max_kw\":solar_kw,            \n",
    "                        \"production_factor_series\":import_df(cfg.solar_file,array,\n",
    "                                                             resamp=cfg.solar_resamp,\n",
    "                                                             scale=cfg.solar_scaler)})\n",
    "    if solar_kw_range:\n",
    "        post['PV'].update({ \"min_kw\":0})\n",
    "    \n",
    "    post['ElectricLoad'].update({'loads_kw':import_df(cfg.load_file,cfg.load_col,\n",
    "                                                      resamp=cfg.load_resamp)})\n",
    "            \n",
    "    post['ElectricStorage'].update({\n",
    "            \"min_kw\":batt_kw,               \"max_kw\":batt_kw,\n",
    "            \"min_kwh\":batt_kw*batt_h,       \"max_kwh\":batt_kw*batt_h,})\n",
    "    if batt_kw_range:\n",
    "        post['ElectricStorage'].update({\"min_kw\":0})\n",
    "    if batt_h_range:\n",
    "        post['ElectricStorage'].update({\"min_kwh\":0})    \n",
    "\n",
    "    post[\"ElectricTariff\"].update({\n",
    "        \"urdb_response\":import_json(cfg.tariff_file),\n",
    "        'wholesale_rate':[cfg.energy_price_sell_constant]*8760,\n",
    "        #'wholesale_rate':import_df('data/PG&E NBT EEC Values 2024 Vintage.csv','Price',resamp='1h'),\n",
    "    })\n",
    "    \n",
    "    export_json(post,cfg.outdir)\n",
    "    \n",
    "    return post\n",
    "\n",
    "def run_reopt(post, print_results=False):\n",
    "\n",
    "    outputs_file_name = \"results_file\"\n",
    "    root_url = \"https://developer.nrel.gov/api/reopt/stable\" # /stable == /v3 \n",
    "    \n",
    "    try:\n",
    "        api_response = get_api_results(post=post, \n",
    "                                    API_KEY=API_KEY, \n",
    "                                    api_url=root_url, \n",
    "                                    results_file= f'outputs/{outputs_file_name}.json', \n",
    "                                    run_id=None)\n",
    "    except:\n",
    "        print('API request failed')\n",
    "        \n",
    "    if api_response is not None:\n",
    "        cost =      api_response[\"outputs\"][\"ElectricTariff\"][\"year_one_energy_cost_before_tax\"]\n",
    "        revenue =   api_response[\"outputs\"][\"ElectricTariff\"][\"year_one_export_benefit_before_tax\"]\n",
    "        netcost =   cost - revenue\n",
    "        npv =       api_response['outputs']['Financial']['npv']\n",
    "        spp =       api_response['outputs']['Financial']['simple_payback_years']\n",
    "\n",
    "        if print_results:    \n",
    "            print('Status = ',              api_response[\"status\"])\n",
    "            print(\"Energy cost ($) = \",     cost)\n",
    "            print('Energy revenue ($) = ',  revenue)\n",
    "            print('Net cost ($) = ',        netcost)\n",
    "            print('NPV ($) and Payback Period (y) = ',        npv, spp)\n",
    "            print('PV Size (kW) = ',        api_response[\"outputs\"][\"PV\"][\"size_kw\"])\n",
    "            if \"ElectricStorage\" in api_response[\"outputs\"].keys():\n",
    "                print('Storage Size (kW-kwh) = ',api_response[\"outputs\"][\"ElectricStorage\"][\"size_kw\"],'-',api_response[\"outputs\"][\"ElectricStorage\"][\"size_kwh\"])\n",
    "    else:\n",
    "        print('API request failed')\n",
    "        cost,netcost = pd.NA,pd.NA\n",
    "        \n",
    "    return api_response, cost, netcost\n",
    "        \n",
    "def compare_to_s20(cfg,solar_kw:int,batt_kw:int,batt_h:int,print_results=False):\n",
    "    cost_red,cost_red_pct,netcost_red = [], [], []\n",
    "    post = create_post(cfg,'0w90',solar_kw,batt_kw,batt_h)\n",
    "    _, cost_base, netcost_base = run_reopt(post,print_results)\n",
    "    for array in cfg.arrays:\n",
    "        try:\n",
    "            post = create_post(cfg,f'{array}w90',solar_kw,batt_kw,batt_h)\n",
    "            _, cost, netcost = run_reopt(post,print_results)\n",
    "            cost_red.append(        cost_base - cost)\n",
    "            cost_red_pct.append(    1 - cost/abs(cost_base))\n",
    "            netcost_red.append(     netcost_base - netcost)\n",
    "            if print_results:\n",
    "                print(f'\\nCost Reduction {array} ($) = {cost_base-cost:.2f} ({100*(1-cost/abs(cost_base)):.1f}%)')\n",
    "                print(f'NetCost Reduction {array} ($) = {netcost_base-netcost:.2f} ({100*(1-netcost/abs(netcost_base)):.1f}%)\\n')\n",
    "        except:\n",
    "            cost_red.append(        pd.NA)\n",
    "            cost_red_pct.append(    pd.NA)\n",
    "            netcost_red.append(     pd.NA)\n",
    "    return cost_base, cost_red, cost_red_pct, netcost_red"
   ]
  },
  {
   "cell_type": "markdown",
   "metadata": {},
   "source": [
    "# Setup"
   ]
  },
  {
   "cell_type": "code",
   "execution_count": 44,
   "metadata": {},
   "outputs": [],
   "source": [
    "cfg = setup('reopt.yaml')"
   ]
  },
  {
   "cell_type": "markdown",
   "metadata": {},
   "source": [
    "# Single run"
   ]
  },
  {
   "cell_type": "code",
   "execution_count": 45,
   "metadata": {},
   "outputs": [
    {
     "name": "stdout",
     "output_type": "stream",
     "text": [
      "Status =  optimal\n",
      "Energy cost ($) =  7626.91\n",
      "Energy revenue ($) =  3392.0\n",
      "Net cost ($) =  4234.91\n",
      "NPV ($) and Payback Period (y) =  99971.74 8.36\n",
      "PV Size (kW) =  123.0103\n",
      "7626.91 4234.91\n"
     ]
    }
   ],
   "source": [
    "post = create_post(cfg,'0w90',200,0,0,solar_kw_range=True)\n",
    "api_response, cost, netcost = run_reopt(post,print_results=True)\n",
    "print(cost, netcost)"
   ]
  },
  {
   "cell_type": "code",
   "execution_count": 46,
   "metadata": {},
   "outputs": [
    {
     "name": "stdout",
     "output_type": "stream",
     "text": [
      "Status =  optimal\n",
      "Energy cost ($) =  3592.14\n",
      "Energy revenue ($) =  2002.0\n",
      "Net cost ($) =  1590.1399999999999\n",
      "NPV ($) and Payback Period (y) =  181081.72 5.74\n",
      "PV Size (kW) =  131.5073\n",
      "Storage Size (kW-kwh) =  48.1 - 155.62\n",
      "3592.14 1590.1399999999999\n"
     ]
    }
   ],
   "source": [
    "post = create_post(cfg,'0w90',200,100,2,solar_kw_range=True,batt_kw_range=True,batt_h_range=True)\n",
    "api_response, cost, netcost = run_reopt(post,print_results=True)\n",
    "print(cost, netcost)"
   ]
  },
  {
   "cell_type": "code",
   "execution_count": 47,
   "metadata": {},
   "outputs": [
    {
     "name": "stdout",
     "output_type": "stream",
     "text": [
      "Status =  optimal\n",
      "Energy cost ($) =  5729.32\n",
      "Energy revenue ($) =  6977.0\n",
      "Net cost ($) =  -1247.6800000000003\n",
      "NPV ($) and Payback Period (y) =  94595.59 13.25\n",
      "PV Size (kW) =  200.0\n",
      "5729.32 -1247.6800000000003\n"
     ]
    }
   ],
   "source": [
    "post = create_post(cfg,'50w90',200,0,0)\n",
    "api_response, cost, netcost = run_reopt(post,print_results=True)\n",
    "print(cost, netcost)"
   ]
  },
  {
   "cell_type": "code",
   "execution_count": 48,
   "metadata": {},
   "outputs": [
    {
     "name": "stdout",
     "output_type": "stream",
     "text": [
      "Status =  optimal\n",
      "Energy cost ($) =  1427.87\n",
      "Energy revenue ($) =  4695.0\n",
      "Net cost ($) =  -3267.13\n",
      "NPV ($) and Payback Period (y) =  118601.7 10.85\n",
      "PV Size (kW) =  200.0\n",
      "Storage Size (kW-kwh) =  100.0 - 200.0\n",
      "1427.87 -3267.13\n"
     ]
    }
   ],
   "source": [
    "post = create_post(cfg,'50w90',200,100,2)\n",
    "api_response, cost, netcost = run_reopt(post,print_results=True)\n",
    "print(cost, netcost)"
   ]
  },
  {
   "cell_type": "markdown",
   "metadata": {},
   "source": [
    "# Grid search"
   ]
  },
  {
   "cell_type": "code",
   "execution_count": 5,
   "metadata": {},
   "outputs": [
    {
     "name": "stdout",
     "output_type": "stream",
     "text": [
      "   SolarKW  BattKW  BattH  BaseCost  Reduc_25w90  Reduc%_25w90  NetReduc_25w90\n",
      "0    100.0     0.0    1.0   8314.78       152.21      0.018306         -140.79\n",
      "   SolarKW  BattKW  BattH  BaseCost  Reduc_25w90  Reduc%_25w90  NetReduc_25w90\n",
      "0    100.0     0.0    1.0   8314.78       152.21      0.018306         -140.79\n",
      "1    100.0     0.0    2.0   8314.78       152.21      0.018306         -140.79\n",
      "   SolarKW  BattKW  BattH  BaseCost  Reduc_25w90  Reduc%_25w90  NetReduc_25w90\n",
      "0    100.0     0.0    1.0   8314.78       152.21      0.018306         -140.79\n",
      "1    100.0     0.0    2.0   8314.78       152.21      0.018306         -140.79\n",
      "2    100.0    25.0    1.0   7339.73       150.33      0.020482         -148.67\n",
      "API request failed\n"
     ]
    },
    {
     "ename": "UnboundLocalError",
     "evalue": "cannot access local variable 'api_response' where it is not associated with a value",
     "output_type": "error",
     "traceback": [
      "\u001b[0;31m---------------------------------------------------------------------------\u001b[0m",
      "\u001b[0;31mUnboundLocalError\u001b[0m                         Traceback (most recent call last)",
      "Cell \u001b[0;32mIn[5], line 17\u001b[0m\n\u001b[1;32m     15\u001b[0m \u001b[38;5;28;01mfor\u001b[39;00m batt_kw \u001b[38;5;129;01min\u001b[39;00m cfg\u001b[38;5;241m.\u001b[39mbatt_kws:\n\u001b[1;32m     16\u001b[0m     \u001b[38;5;28;01mfor\u001b[39;00m batt_h \u001b[38;5;129;01min\u001b[39;00m cfg\u001b[38;5;241m.\u001b[39mbatt_hs:\n\u001b[0;32m---> 17\u001b[0m         basecost, cost_red, cost_red_pct, netcost_red \u001b[38;5;241m=\u001b[39m \u001b[43mcompare_to_s20\u001b[49m\u001b[43m(\u001b[49m\u001b[43mcfg\u001b[49m\u001b[43m,\u001b[49m\u001b[43msolar_kw\u001b[49m\u001b[43m,\u001b[49m\u001b[43mbatt_kw\u001b[49m\u001b[43m,\u001b[49m\u001b[43mbatt_h\u001b[49m\u001b[43m,\u001b[49m\u001b[43mprint_results\u001b[49m\u001b[38;5;241;43m=\u001b[39;49m\u001b[38;5;28;43;01mFalse\u001b[39;49;00m\u001b[43m)\u001b[49m\n\u001b[1;32m     18\u001b[0m         df\u001b[38;5;241m.\u001b[39mloc[\u001b[38;5;28mlen\u001b[39m(df)] \u001b[38;5;241m=\u001b[39m [solar_kw,batt_kw,batt_h,basecost]\u001b[38;5;241m+\u001b[39mcost_red\u001b[38;5;241m+\u001b[39mcost_red_pct\u001b[38;5;241m+\u001b[39mnetcost_red\n\u001b[1;32m     19\u001b[0m         df\u001b[38;5;241m.\u001b[39mto_csv(cfg\u001b[38;5;241m.\u001b[39moutdir\u001b[38;5;241m+\u001b[39m\u001b[38;5;124m'\u001b[39m\u001b[38;5;124mresults.csv\u001b[39m\u001b[38;5;124m'\u001b[39m,index\u001b[38;5;241m=\u001b[39m\u001b[38;5;28;01mFalse\u001b[39;00m)\n",
      "Cell \u001b[0;32mIn[2], line 84\u001b[0m, in \u001b[0;36mcompare_to_s20\u001b[0;34m(cfg, solar_kw, batt_kw, batt_h, print_results)\u001b[0m\n\u001b[1;32m     82\u001b[0m \u001b[38;5;28;01mfor\u001b[39;00m array \u001b[38;5;129;01min\u001b[39;00m cfg\u001b[38;5;241m.\u001b[39marrays:\n\u001b[1;32m     83\u001b[0m     post \u001b[38;5;241m=\u001b[39m create_post(cfg,\u001b[38;5;124mf\u001b[39m\u001b[38;5;124m'\u001b[39m\u001b[38;5;132;01m{\u001b[39;00marray\u001b[38;5;132;01m}\u001b[39;00m\u001b[38;5;124mw90\u001b[39m\u001b[38;5;124m'\u001b[39m,solar_kw,batt_kw,batt_h)\n\u001b[0;32m---> 84\u001b[0m     _, cost, netcost \u001b[38;5;241m=\u001b[39m \u001b[43mrun_reopt\u001b[49m\u001b[43m(\u001b[49m\u001b[43mpost\u001b[49m\u001b[43m,\u001b[49m\u001b[43mprint_results\u001b[49m\u001b[43m)\u001b[49m\n\u001b[1;32m     85\u001b[0m     cost_red\u001b[38;5;241m.\u001b[39mappend(        cost_base \u001b[38;5;241m-\u001b[39m cost)\n\u001b[1;32m     86\u001b[0m     cost_red_pct\u001b[38;5;241m.\u001b[39mappend(    \u001b[38;5;241m1\u001b[39m \u001b[38;5;241m-\u001b[39m cost\u001b[38;5;241m/\u001b[39m\u001b[38;5;28mabs\u001b[39m(cost_base))\n",
      "Cell \u001b[0;32mIn[2], line 58\u001b[0m, in \u001b[0;36mrun_reopt\u001b[0;34m(post, print_results)\u001b[0m\n\u001b[1;32m     55\u001b[0m \u001b[38;5;28;01mexcept\u001b[39;00m:\n\u001b[1;32m     56\u001b[0m     \u001b[38;5;28mprint\u001b[39m(\u001b[38;5;124m'\u001b[39m\u001b[38;5;124mAPI request failed\u001b[39m\u001b[38;5;124m'\u001b[39m)\n\u001b[0;32m---> 58\u001b[0m \u001b[38;5;28;01mif\u001b[39;00m \u001b[43mapi_response\u001b[49m \u001b[38;5;129;01mis\u001b[39;00m \u001b[38;5;129;01mnot\u001b[39;00m \u001b[38;5;28;01mNone\u001b[39;00m:\n\u001b[1;32m     59\u001b[0m     cost \u001b[38;5;241m=\u001b[39m      api_response[\u001b[38;5;124m\"\u001b[39m\u001b[38;5;124moutputs\u001b[39m\u001b[38;5;124m\"\u001b[39m][\u001b[38;5;124m\"\u001b[39m\u001b[38;5;124mElectricTariff\u001b[39m\u001b[38;5;124m\"\u001b[39m][\u001b[38;5;124m\"\u001b[39m\u001b[38;5;124myear_one_energy_cost_before_tax\u001b[39m\u001b[38;5;124m\"\u001b[39m]\n\u001b[1;32m     60\u001b[0m     revenue \u001b[38;5;241m=\u001b[39m   api_response[\u001b[38;5;124m\"\u001b[39m\u001b[38;5;124moutputs\u001b[39m\u001b[38;5;124m\"\u001b[39m][\u001b[38;5;124m\"\u001b[39m\u001b[38;5;124mElectricTariff\u001b[39m\u001b[38;5;124m\"\u001b[39m][\u001b[38;5;124m\"\u001b[39m\u001b[38;5;124myear_one_export_benefit_before_tax\u001b[39m\u001b[38;5;124m\"\u001b[39m]\n",
      "\u001b[0;31mUnboundLocalError\u001b[0m: cannot access local variable 'api_response' where it is not associated with a value"
     ]
    }
   ],
   "source": [
    "cols = ['SolarKW','BattKW','BattH','BaseCost']\n",
    "df = pd.DataFrame([],columns=cols   + [f'Reduc_{x}w90' for x in cfg.arrays]\\\n",
    "                                    + [f'Reduc%_{x}w90' for x in cfg.arrays]\\\n",
    "                                    + [f'NetReduc_{x}w90' for x in cfg.arrays])\n",
    "\n",
    "#best_cost_red_pct = 0\n",
    "#best_resp = None\n",
    "\n",
    "if cfg.test:\n",
    "    cfg.solar_kws   = [cfg.solar_kws[0]]\n",
    "    cfg.batt_kws    = [cfg.batt_kws[0]]\n",
    "    cfg.batt_hs     = [cfg.batt_hs[0]]\n",
    "\n",
    "for solar_kw in cfg.solar_kws:\n",
    "    for batt_kw in cfg.batt_kws:\n",
    "        for batt_h in cfg.batt_hs:\n",
    "            basecost, cost_red, cost_red_pct, netcost_red = compare_to_s20(cfg,solar_kw,batt_kw,batt_h,print_results=False)\n",
    "            df.loc[len(df)] = [solar_kw,batt_kw,batt_h,basecost]+cost_red+cost_red_pct+netcost_red\n",
    "            df.to_csv(cfg.outdir+'results.csv',index=False)\n",
    "            print(df.iloc[:,:7])\n",
    "            \n",
    "            # for x,r,n in zip(cost_red_pct,resp,arrays):\n",
    "            #     if x > best_cost_red_pct:\n",
    "            #         best_cost_red_pct = x\n",
    "            #         best_resp = r\n",
    "            #         df.iloc[-1,:].to_csv(f'outputs/best_result_{n}.csv')\n",
    "            \n",
    "df"
   ]
  },
  {
   "cell_type": "markdown",
   "metadata": {},
   "source": [
    "# Plot"
   ]
  },
  {
   "cell_type": "code",
   "execution_count": null,
   "metadata": {},
   "outputs": [],
   "source": [
    "# dispatch = parse_dispatch_series(api_response)\n",
    "# f = plotly_stacked(dispatch,solar='pv',load='load',batt='batt',utility='grid',soc='soc',theme='plotly_dark')"
   ]
  },
  {
   "cell_type": "markdown",
   "metadata": {},
   "source": [
    "# Schedule"
   ]
  },
  {
   "cell_type": "code",
   "execution_count": 6,
   "metadata": {},
   "outputs": [],
   "source": [
    "def job(tariff_name):\n",
    "    try:\n",
    "        with open('tariff_gs.yaml', 'r') as f:\n",
    "            d=yaml.safe_load(f)\n",
    "            \n",
    "            d['tariff_file'] = f'tariff/{tariff_name}.json'\n",
    "            \n",
    "        with open('tariff_gs.yaml', 'w') as f:\n",
    "            yaml.dump(d, f)\n",
    "            \n",
    "        cfg = setup('tariff_gs.yaml')\n",
    "        \n",
    "        cols = ['SolarKW','BattKW','BattH','BaseCost']\n",
    "        df = pd.DataFrame([],columns=cols   + [f'Reduc_{x}w90' for x in cfg.arrays]\\\n",
    "                                            + [f'Reduc%_{x}w90' for x in cfg.arrays]\\\n",
    "                                            + [f'NetReduc_{x}w90' for x in cfg.arrays])\n",
    "        if cfg.test:\n",
    "            cfg.solar_kws   = [cfg.solar_kws[0]]\n",
    "            cfg.batt_kws    = [cfg.batt_kws[0]]\n",
    "            cfg.batt_hs     = [cfg.batt_hs[0]]\n",
    "\n",
    "        for solar_kw in cfg.solar_kws:\n",
    "            for batt_kw in cfg.batt_kws:\n",
    "                for batt_h in cfg.batt_hs:\n",
    "                    basecost, cost_red, cost_red_pct, netcost_red = compare_to_s20(cfg,solar_kw,batt_kw,batt_h,print_results=False)\n",
    "                    df.loc[len(df)] = [solar_kw,batt_kw,batt_h,basecost]+cost_red+cost_red_pct+netcost_red\n",
    "                    df.to_csv(cfg.outdir+'results.csv',index=False)\n",
    "                    print(df.iloc[:,:7])\n",
    "    except:\n",
    "        pass"
   ]
  },
  {
   "cell_type": "code",
   "execution_count": 5,
   "metadata": {},
   "outputs": [
    {
     "ename": "FileNotFoundError",
     "evalue": "[Errno 2] No such file or directory: 'data/tariff/h4_8-10.json'",
     "output_type": "error",
     "traceback": [
      "\u001b[0;31m---------------------------------------------------------------------------\u001b[0m",
      "\u001b[0;31mFileNotFoundError\u001b[0m                         Traceback (most recent call last)",
      "Cell \u001b[0;32mIn[5], line 4\u001b[0m\n\u001b[1;32m      1\u001b[0m schedule\u001b[38;5;241m.\u001b[39mevery()\u001b[38;5;241m.\u001b[39mday\u001b[38;5;241m.\u001b[39mat(\u001b[38;5;124m'\u001b[39m\u001b[38;5;124m00:40\u001b[39m\u001b[38;5;124m'\u001b[39m)\u001b[38;5;241m.\u001b[39mdo(job,tariff_name\u001b[38;5;241m=\u001b[39m\u001b[38;5;124m'\u001b[39m\u001b[38;5;124mh4_8-10\u001b[39m\u001b[38;5;124m'\u001b[39m)\n\u001b[1;32m      3\u001b[0m \u001b[38;5;28;01mwhile\u001b[39;00m \u001b[38;5;28;01mTrue\u001b[39;00m:\n\u001b[0;32m----> 4\u001b[0m     \u001b[43mschedule\u001b[49m\u001b[38;5;241;43m.\u001b[39;49m\u001b[43mrun_pending\u001b[49m\u001b[43m(\u001b[49m\u001b[43m)\u001b[49m\n\u001b[1;32m      5\u001b[0m     time\u001b[38;5;241m.\u001b[39msleep(\u001b[38;5;241m1\u001b[39m)\n",
      "File \u001b[0;32m~/miniconda3/lib/python3.11/site-packages/schedule/__init__.py:822\u001b[0m, in \u001b[0;36mrun_pending\u001b[0;34m()\u001b[0m\n\u001b[1;32m    818\u001b[0m \u001b[38;5;28;01mdef\u001b[39;00m \u001b[38;5;21mrun_pending\u001b[39m() \u001b[38;5;241m-\u001b[39m\u001b[38;5;241m>\u001b[39m \u001b[38;5;28;01mNone\u001b[39;00m:\n\u001b[1;32m    819\u001b[0m \u001b[38;5;250m    \u001b[39m\u001b[38;5;124;03m\"\"\"Calls :meth:`run_pending <Scheduler.run_pending>` on the\u001b[39;00m\n\u001b[1;32m    820\u001b[0m \u001b[38;5;124;03m    :data:`default scheduler instance <default_scheduler>`.\u001b[39;00m\n\u001b[1;32m    821\u001b[0m \u001b[38;5;124;03m    \"\"\"\u001b[39;00m\n\u001b[0;32m--> 822\u001b[0m     \u001b[43mdefault_scheduler\u001b[49m\u001b[38;5;241;43m.\u001b[39;49m\u001b[43mrun_pending\u001b[49m\u001b[43m(\u001b[49m\u001b[43m)\u001b[49m\n",
      "File \u001b[0;32m~/miniconda3/lib/python3.11/site-packages/schedule/__init__.py:100\u001b[0m, in \u001b[0;36mScheduler.run_pending\u001b[0;34m(self)\u001b[0m\n\u001b[1;32m     98\u001b[0m runnable_jobs \u001b[38;5;241m=\u001b[39m (job \u001b[38;5;28;01mfor\u001b[39;00m job \u001b[38;5;129;01min\u001b[39;00m \u001b[38;5;28mself\u001b[39m\u001b[38;5;241m.\u001b[39mjobs \u001b[38;5;28;01mif\u001b[39;00m job\u001b[38;5;241m.\u001b[39mshould_run)\n\u001b[1;32m     99\u001b[0m \u001b[38;5;28;01mfor\u001b[39;00m job \u001b[38;5;129;01min\u001b[39;00m \u001b[38;5;28msorted\u001b[39m(runnable_jobs):\n\u001b[0;32m--> 100\u001b[0m     \u001b[38;5;28;43mself\u001b[39;49m\u001b[38;5;241;43m.\u001b[39;49m\u001b[43m_run_job\u001b[49m\u001b[43m(\u001b[49m\u001b[43mjob\u001b[49m\u001b[43m)\u001b[49m\n",
      "File \u001b[0;32m~/miniconda3/lib/python3.11/site-packages/schedule/__init__.py:172\u001b[0m, in \u001b[0;36mScheduler._run_job\u001b[0;34m(self, job)\u001b[0m\n\u001b[1;32m    171\u001b[0m \u001b[38;5;28;01mdef\u001b[39;00m \u001b[38;5;21m_run_job\u001b[39m(\u001b[38;5;28mself\u001b[39m, job: \u001b[38;5;124m\"\u001b[39m\u001b[38;5;124mJob\u001b[39m\u001b[38;5;124m\"\u001b[39m) \u001b[38;5;241m-\u001b[39m\u001b[38;5;241m>\u001b[39m \u001b[38;5;28;01mNone\u001b[39;00m:\n\u001b[0;32m--> 172\u001b[0m     ret \u001b[38;5;241m=\u001b[39m \u001b[43mjob\u001b[49m\u001b[38;5;241;43m.\u001b[39;49m\u001b[43mrun\u001b[49m\u001b[43m(\u001b[49m\u001b[43m)\u001b[49m\n\u001b[1;32m    173\u001b[0m     \u001b[38;5;28;01mif\u001b[39;00m \u001b[38;5;28misinstance\u001b[39m(ret, CancelJob) \u001b[38;5;129;01mor\u001b[39;00m ret \u001b[38;5;129;01mis\u001b[39;00m CancelJob:\n\u001b[1;32m    174\u001b[0m         \u001b[38;5;28mself\u001b[39m\u001b[38;5;241m.\u001b[39mcancel_job(job)\n",
      "File \u001b[0;32m~/miniconda3/lib/python3.11/site-packages/schedule/__init__.py:693\u001b[0m, in \u001b[0;36mJob.run\u001b[0;34m(self)\u001b[0m\n\u001b[1;32m    690\u001b[0m     \u001b[38;5;28;01mreturn\u001b[39;00m CancelJob\n\u001b[1;32m    692\u001b[0m logger\u001b[38;5;241m.\u001b[39mdebug(\u001b[38;5;124m\"\u001b[39m\u001b[38;5;124mRunning job \u001b[39m\u001b[38;5;132;01m%s\u001b[39;00m\u001b[38;5;124m\"\u001b[39m, \u001b[38;5;28mself\u001b[39m)\n\u001b[0;32m--> 693\u001b[0m ret \u001b[38;5;241m=\u001b[39m \u001b[38;5;28;43mself\u001b[39;49m\u001b[38;5;241;43m.\u001b[39;49m\u001b[43mjob_func\u001b[49m\u001b[43m(\u001b[49m\u001b[43m)\u001b[49m\n\u001b[1;32m    694\u001b[0m \u001b[38;5;28mself\u001b[39m\u001b[38;5;241m.\u001b[39mlast_run \u001b[38;5;241m=\u001b[39m datetime\u001b[38;5;241m.\u001b[39mdatetime\u001b[38;5;241m.\u001b[39mnow()\n\u001b[1;32m    695\u001b[0m \u001b[38;5;28mself\u001b[39m\u001b[38;5;241m.\u001b[39m_schedule_next_run()\n",
      "Cell \u001b[0;32mIn[4], line 24\u001b[0m, in \u001b[0;36mjob\u001b[0;34m(tariff_name)\u001b[0m\n\u001b[1;32m     22\u001b[0m \u001b[38;5;28;01mfor\u001b[39;00m batt_kw \u001b[38;5;129;01min\u001b[39;00m cfg\u001b[38;5;241m.\u001b[39mbatt_kws:\n\u001b[1;32m     23\u001b[0m     \u001b[38;5;28;01mfor\u001b[39;00m batt_h \u001b[38;5;129;01min\u001b[39;00m cfg\u001b[38;5;241m.\u001b[39mbatt_hs:\n\u001b[0;32m---> 24\u001b[0m         basecost, cost_red, cost_red_pct, netcost_red \u001b[38;5;241m=\u001b[39m \u001b[43mcompare_to_s20\u001b[49m\u001b[43m(\u001b[49m\u001b[43mcfg\u001b[49m\u001b[43m,\u001b[49m\u001b[43msolar_kw\u001b[49m\u001b[43m,\u001b[49m\u001b[43mbatt_kw\u001b[49m\u001b[43m,\u001b[49m\u001b[43mbatt_h\u001b[49m\u001b[43m,\u001b[49m\u001b[43mprint_results\u001b[49m\u001b[38;5;241;43m=\u001b[39;49m\u001b[38;5;28;43;01mFalse\u001b[39;49;00m\u001b[43m)\u001b[49m\n\u001b[1;32m     25\u001b[0m         df\u001b[38;5;241m.\u001b[39mloc[\u001b[38;5;28mlen\u001b[39m(df)] \u001b[38;5;241m=\u001b[39m [solar_kw,batt_kw,batt_h,basecost]\u001b[38;5;241m+\u001b[39mcost_red\u001b[38;5;241m+\u001b[39mcost_red_pct\u001b[38;5;241m+\u001b[39mnetcost_red\n\u001b[1;32m     26\u001b[0m         df\u001b[38;5;241m.\u001b[39mto_csv(cfg\u001b[38;5;241m.\u001b[39moutdir\u001b[38;5;241m+\u001b[39m\u001b[38;5;124m'\u001b[39m\u001b[38;5;124mresults.csv\u001b[39m\u001b[38;5;124m'\u001b[39m,index\u001b[38;5;241m=\u001b[39m\u001b[38;5;28;01mFalse\u001b[39;00m)\n",
      "Cell \u001b[0;32mIn[3], line 78\u001b[0m, in \u001b[0;36mcompare_to_s20\u001b[0;34m(cfg, solar_kw, batt_kw, batt_h, print_results)\u001b[0m\n\u001b[1;32m     76\u001b[0m \u001b[38;5;28;01mdef\u001b[39;00m \u001b[38;5;21mcompare_to_s20\u001b[39m(cfg,solar_kw:\u001b[38;5;28mint\u001b[39m,batt_kw:\u001b[38;5;28mint\u001b[39m,batt_h:\u001b[38;5;28mint\u001b[39m,print_results\u001b[38;5;241m=\u001b[39m\u001b[38;5;28;01mFalse\u001b[39;00m):\n\u001b[1;32m     77\u001b[0m     cost_red,cost_red_pct,netcost_red \u001b[38;5;241m=\u001b[39m [], [], []\n\u001b[0;32m---> 78\u001b[0m     post \u001b[38;5;241m=\u001b[39m \u001b[43mcreate_post\u001b[49m\u001b[43m(\u001b[49m\u001b[43mcfg\u001b[49m\u001b[43m,\u001b[49m\u001b[38;5;124;43m'\u001b[39;49m\u001b[38;5;124;43m0w90\u001b[39;49m\u001b[38;5;124;43m'\u001b[39;49m\u001b[43m,\u001b[49m\u001b[43msolar_kw\u001b[49m\u001b[43m,\u001b[49m\u001b[43mbatt_kw\u001b[49m\u001b[43m,\u001b[49m\u001b[43mbatt_h\u001b[49m\u001b[43m)\u001b[49m\n\u001b[1;32m     79\u001b[0m     _, cost_base, netcost_base \u001b[38;5;241m=\u001b[39m run_reopt(post,print_results)\n\u001b[1;32m     80\u001b[0m     \u001b[38;5;28;01mfor\u001b[39;00m array \u001b[38;5;129;01min\u001b[39;00m cfg\u001b[38;5;241m.\u001b[39marrays:\n",
      "Cell \u001b[0;32mIn[3], line 31\u001b[0m, in \u001b[0;36mcreate_post\u001b[0;34m(cfg, array, solar_kw, batt_kw, batt_h, solar_kw_range, batt_kw_range, batt_h_range)\u001b[0m\n\u001b[1;32m     27\u001b[0m \u001b[38;5;28;01mif\u001b[39;00m batt_h_range:\n\u001b[1;32m     28\u001b[0m     post[\u001b[38;5;124m'\u001b[39m\u001b[38;5;124mElectricStorage\u001b[39m\u001b[38;5;124m'\u001b[39m]\u001b[38;5;241m.\u001b[39mupdate({\u001b[38;5;124m\"\u001b[39m\u001b[38;5;124mmin_kwh\u001b[39m\u001b[38;5;124m\"\u001b[39m:\u001b[38;5;241m0\u001b[39m})    \n\u001b[1;32m     30\u001b[0m post[\u001b[38;5;124m\"\u001b[39m\u001b[38;5;124mElectricTariff\u001b[39m\u001b[38;5;124m\"\u001b[39m]\u001b[38;5;241m.\u001b[39mupdate({\n\u001b[0;32m---> 31\u001b[0m     \u001b[38;5;124m\"\u001b[39m\u001b[38;5;124murdb_response\u001b[39m\u001b[38;5;124m\"\u001b[39m:\u001b[43mimport_json\u001b[49m\u001b[43m(\u001b[49m\u001b[43mcfg\u001b[49m\u001b[38;5;241;43m.\u001b[39;49m\u001b[43mtariff_file\u001b[49m\u001b[43m)\u001b[49m,\n\u001b[1;32m     32\u001b[0m     \u001b[38;5;124m'\u001b[39m\u001b[38;5;124mwholesale_rate\u001b[39m\u001b[38;5;124m'\u001b[39m:[cfg\u001b[38;5;241m.\u001b[39menergy_price_sell_constant]\u001b[38;5;241m*\u001b[39m\u001b[38;5;241m8760\u001b[39m,\n\u001b[1;32m     33\u001b[0m     \u001b[38;5;66;03m#'wholesale_rate':import_df('data/PG&E NBT EEC Values 2024 Vintage.csv','Price',resamp='1h'),\u001b[39;00m\n\u001b[1;32m     34\u001b[0m })\n\u001b[1;32m     36\u001b[0m export_json(post,cfg\u001b[38;5;241m.\u001b[39moutdir)\n\u001b[1;32m     38\u001b[0m \u001b[38;5;28;01mreturn\u001b[39;00m post\n",
      "File \u001b[0;32m~/Code/Bifacial-solar-and-peakshaving/utils.py:124\u001b[0m, in \u001b[0;36mimport_json\u001b[0;34m(name)\u001b[0m\n\u001b[1;32m    123\u001b[0m \u001b[38;5;28;01mdef\u001b[39;00m \u001b[38;5;21mimport_json\u001b[39m(name):\n\u001b[0;32m--> 124\u001b[0m     \u001b[38;5;28;01mwith\u001b[39;00m \u001b[38;5;28;43mopen\u001b[39;49m\u001b[43m(\u001b[49m\u001b[43mname\u001b[49m\u001b[43m,\u001b[49m\u001b[43m \u001b[49m\u001b[38;5;124;43m'\u001b[39;49m\u001b[38;5;124;43mr\u001b[39;49m\u001b[38;5;124;43m'\u001b[39;49m\u001b[43m)\u001b[49m \u001b[38;5;28;01mas\u001b[39;00m fp:\n\u001b[1;32m    125\u001b[0m         jsondict \u001b[38;5;241m=\u001b[39m json\u001b[38;5;241m.\u001b[39mload(fp)\n\u001b[1;32m    126\u001b[0m     \u001b[38;5;28;01mreturn\u001b[39;00m jsondict\n",
      "\u001b[0;31mFileNotFoundError\u001b[0m: [Errno 2] No such file or directory: 'data/tariff/h4_8-10.json'"
     ]
    }
   ],
   "source": [
    "schedule.every().day.at('01:03').do(job,tariff_name='h4_6-10')\n",
    "schedule.every().day.at('02:03').do(job,tariff_name='h4_8-12')\n",
    "schedule.every().day.at('03:03').do(job,tariff_name='h4_10-14')\n",
    "schedule.every().day.at('04:03').do(job,tariff_name='h4_12-16')\n",
    "schedule.every().day.at('05:03').do(job,tariff_name='h4_14-18')\n",
    "schedule.every().day.at('06:03').do(job,tariff_name='h4_16-20')\n",
    "schedule.every().day.at('07:03').do(job,tariff_name='h8_12-20')\n",
    "schedule.every().day.at('08:03').do(job,tariff_name='h8_14-22')\n",
    "schedule.every().day.at('09:03').do(job,tariff_name='h8_16-24')\n",
    "schedule.every().day.at('10:03').do(job,tariff_name='h12_8-20')\n",
    "schedule.every().day.at('11:03').do(job,tariff_name='h12_10-22')\n",
    "schedule.every().day.at('12:03').do(job,tariff_name='h12_12-24')\n",
    "\n",
    "while True:\n",
    "    schedule.run_pending()\n",
    "    time.sleep(1)"
   ]
  }
 ],
 "metadata": {
  "@webio": {
   "lastCommId": null,
   "lastKernelId": null
  },
  "kernelspec": {
   "display_name": "Python 3",
   "language": "python",
   "name": "python3"
  },
  "language_info": {
   "codemirror_mode": {
    "name": "ipython",
    "version": 3
   },
   "file_extension": ".py",
   "mimetype": "text/x-python",
   "name": "python",
   "nbconvert_exporter": "python",
   "pygments_lexer": "ipython3",
   "version": "3.11.0"
  },
  "latex_envs": {
   "LaTeX_envs_menu_present": true,
   "autoclose": false,
   "autocomplete": true,
   "bibliofile": "biblio.bib",
   "cite_by": "apalike",
   "current_citInitial": 1,
   "eqLabelWithNumbers": true,
   "eqNumInitial": 1,
   "hotkeys": {
    "equation": "Ctrl-E",
    "itemize": "Ctrl-I"
   },
   "labels_anchors": false,
   "latex_user_defs": false,
   "report_style_numbering": false,
   "user_envs_cfg": false
  }
 },
 "nbformat": 4,
 "nbformat_minor": 4
}
