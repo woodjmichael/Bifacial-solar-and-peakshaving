{
 "cells": [
  {
   "cell_type": "markdown",
   "metadata": {},
   "source": [
    "# ReOpt\n",
    "\n",
    "- API structure: https://developer.nrel.gov/api/reopt/stable/help?API_KEY=DEMO_KEY\n",
    "- Models.py: https://github.com/NREL/REopt_API/blob/master/reoptjl/models.py"
   ]
  },
  {
   "cell_type": "code",
   "execution_count": 1,
   "metadata": {},
   "outputs": [],
   "source": [
    "import pandas as pd\n",
    "import shutil\n",
    "import os, sys, json\n",
    "from src.post_and_poll import get_api_results\n",
    "from utils import import_df, import_json, export_json, plotly_stacked, parse_dispatch_series, setup\n",
    "\n",
    "# to silence warnigns\n",
    "# InsecureRequestWarning: Unverified HTTPS request is being made to host 'developer.nrel.gov'. Adding certificate verification is strongly advised.\n",
    "import urllib3\n",
    "urllib3.disable_warnings()\n",
    "\n",
    "pd.options.plotting.backend='plotly'\n",
    "\n",
    "API_KEY = '0bgdMrMpcFEfzIuYLRFpEfPeUqabOQKo5RagyRPV' "
   ]
  },
  {
   "cell_type": "code",
   "execution_count": 2,
   "metadata": {},
   "outputs": [],
   "source": [
    "def create_post(cfg,array,solar_kw,batt_kw,batt_h):\n",
    "    post = {\n",
    "        \"Site\": {\n",
    "            \"longitude\": 45.505890265478996, \n",
    "            \"latitude\": 9.160999024421262\n",
    "        },\n",
    "        \"PV\": {\n",
    "            \"min_kw\":solar_kw,              \"max_kw\":solar_kw,            \n",
    "            \"production_factor_series\":import_df(cfg.solar_file,array,resamp=cfg.solar_resamp,scale=cfg.solar_scaler),\n",
    "            \"array_type\": 0,\n",
    "            \"can_net_meter\":False,\n",
    "            \"installed_cost_per_kw\":0,\n",
    "        },\n",
    "        \"ElectricLoad\": {\n",
    "            'loads_kw':import_df(cfg.load_file,cfg.load_col,resamp=cfg.load_resamp)\n",
    "        },\n",
    "        \"ElectricStorage\": {\n",
    "            \"min_kw\":batt_kw,               \"max_kw\":batt_kw,\n",
    "            \"min_kwh\":batt_kw*batt_h,       \"max_kwh\":batt_kw*batt_h,\n",
    "            \"installed_cost_per_kw\":0,      \"installed_cost_per_kwh\":0,\n",
    "            \"soc_min_fraction\":0.0,         \"soc_max_fraction\":1.0,     \"soc_init_fraction\":0.0,\n",
    "            \"can_grid_charge\":True,\n",
    "        },\n",
    "\n",
    "        \"ElectricTariff\": {\n",
    "            \"urdb_response\":import_json(cfg.tariff_file),\n",
    "            'wholesale_rate':[cfg.energy_price_sell_constant]*8760,\n",
    "            #'wholesale_rate':import_df('data/PG&E NBT EEC Values 2024 Vintage.csv','Price',resamp='1h'),\n",
    "            #'urdb_label': '5c817fcf7bece2299eceb39b', # General Service Time-of-use Electric Vehicle Charging - Demand Metered:TOU-EV-4 (50kV - 220 kV) - Closed Rate            \n",
    "        },\n",
    "        \"ElectricUtility\":{\n",
    "            \"net_metering_limit_kw\":0,\n",
    "            \n",
    "        },\n",
    "        \"Financial\": {\n",
    "            \"analysis_years\": 1,\n",
    "        }\n",
    "    }\n",
    "    \n",
    "    export_json(post,cfg.outdir)\n",
    "    \n",
    "    return post\n",
    "\n",
    "def run_reopt(post, print_results=False):\n",
    "\n",
    "    outputs_file_name = \"results_file\"\n",
    "    root_url = \"https://developer.nrel.gov/api/reopt/stable\" # /stable == /v3 \n",
    "    \n",
    "    try:\n",
    "        api_response = get_api_results(post=post, \n",
    "                                    API_KEY=API_KEY, \n",
    "                                    api_url=root_url, \n",
    "                                    results_file= f'outputs/{outputs_file_name}.json', \n",
    "                                    run_id=None)\n",
    "    except:\n",
    "        print('API request failed')\n",
    "        \n",
    "    if api_response is not None:\n",
    "        cost =      api_response[\"outputs\"][\"ElectricTariff\"][\"year_one_energy_cost_before_tax\"]\n",
    "        revenue =   api_response[\"outputs\"][\"ElectricTariff\"][\"year_one_export_benefit_before_tax\"]\n",
    "        netcost = cost - revenue\n",
    "\n",
    "        if print_results:    \n",
    "            print('Status = ',              api_response[\"status\"])\n",
    "            print(\"Energy cost ($) = \",     cost)\n",
    "            print('Energy revenue ($) = ',  revenue)\n",
    "            print('Net cost ($) = ',        netcost)\n",
    "            print('PV Size (kW) = ',        api_response[\"outputs\"][\"PV\"][\"size_kw\"])\n",
    "            if \"ElectricStorage\" in api_response[\"outputs\"].keys():\n",
    "                print('Storage Size (kW-kwh) = ',api_response[\"outputs\"][\"ElectricStorage\"][\"size_kw\"],'-',api_response[\"outputs\"][\"ElectricStorage\"][\"size_kwh\"])\n",
    "    else:\n",
    "        print('API request failed')\n",
    "        cost = pd.NA\n",
    "        revenue = pd.NA\n",
    "        netcost = pd.NA\n",
    "    return api_response, cost, netcost\n",
    "\n",
    "def compare_to_s20(cfg,solar_kw:int,batt_kw:int,batt_h:int,print_results=False):\n",
    "    cost_red,cost_red_pct,netcost_red = [], [], []\n",
    "    post = create_post(cfg,'0w90',solar_kw,batt_kw,batt_h)\n",
    "    _, cost_base, netcost_base = run_reopt(post,print_results)\n",
    "    for array in cfg.arrays:\n",
    "        post = create_post(cfg,f'{array}w90',solar_kw,batt_kw,batt_h)\n",
    "        _, cost, netcost = run_reopt(post,print_results)\n",
    "        cost_red.append(        cost_base - cost)\n",
    "        cost_red_pct.append(    1 - cost/abs(cost_base))\n",
    "        netcost_red.append(     netcost_base - netcost)\n",
    "        if print_results:\n",
    "            print(f'\\nCost Reduction {array} ($) = {cost_base-cost:.2f} ({100*(1-cost/abs(cost_base)):.1f}%)')\n",
    "            print(f'NetCost Reduction {array} ($) = {netcost_base-netcost:.2f} ({100*(1-netcost/abs(netcost_base)):.1f}%)\\n')\n",
    "    return cost_base, cost_red, cost_red_pct, netcost_red"
   ]
  },
  {
   "cell_type": "markdown",
   "metadata": {},
   "source": [
    "# Setup"
   ]
  },
  {
   "cell_type": "code",
   "execution_count": 3,
   "metadata": {},
   "outputs": [],
   "source": [
    "cfg = setup('reopt.yaml')"
   ]
  },
  {
   "cell_type": "markdown",
   "metadata": {},
   "source": [
    "# Single run"
   ]
  },
  {
   "cell_type": "code",
   "execution_count": 4,
   "metadata": {},
   "outputs": [
    {
     "name": "stdout",
     "output_type": "stream",
     "text": [
      "5335.47 2808.4700000000003\n"
     ]
    }
   ],
   "source": [
    "post = create_post(cfg,'25w90',125,25,2)\n",
    "api_response, cost, netcost = run_reopt(post)\n",
    "print(cost, netcost)"
   ]
  },
  {
   "cell_type": "markdown",
   "metadata": {},
   "source": [
    "# Grid search"
   ]
  },
  {
   "cell_type": "code",
   "execution_count": 5,
   "metadata": {},
   "outputs": [
    {
     "name": "stdout",
     "output_type": "stream",
     "text": [
      "   SolarKW  BattKW  BattH  BaseCost  Reduc_25w90  Reduc%_25w90  NetReduc_25w90\n",
      "0    100.0     0.0    1.0   8314.78       152.21      0.018306         -140.79\n",
      "   SolarKW  BattKW  BattH  BaseCost  Reduc_25w90  Reduc%_25w90  NetReduc_25w90\n",
      "0    100.0     0.0    1.0   8314.78       152.21      0.018306         -140.79\n",
      "1    100.0     0.0    2.0   8314.78       152.21      0.018306         -140.79\n",
      "   SolarKW  BattKW  BattH  BaseCost  Reduc_25w90  Reduc%_25w90  NetReduc_25w90\n",
      "0    100.0     0.0    1.0   8314.78       152.21      0.018306         -140.79\n",
      "1    100.0     0.0    2.0   8314.78       152.21      0.018306         -140.79\n",
      "2    100.0    25.0    1.0   7339.73       150.33      0.020482         -148.67\n",
      "API request failed\n"
     ]
    },
    {
     "ename": "UnboundLocalError",
     "evalue": "cannot access local variable 'api_response' where it is not associated with a value",
     "output_type": "error",
     "traceback": [
      "\u001b[0;31m---------------------------------------------------------------------------\u001b[0m",
      "\u001b[0;31mUnboundLocalError\u001b[0m                         Traceback (most recent call last)",
      "Cell \u001b[0;32mIn[5], line 17\u001b[0m\n\u001b[1;32m     15\u001b[0m \u001b[38;5;28;01mfor\u001b[39;00m batt_kw \u001b[38;5;129;01min\u001b[39;00m cfg\u001b[38;5;241m.\u001b[39mbatt_kws:\n\u001b[1;32m     16\u001b[0m     \u001b[38;5;28;01mfor\u001b[39;00m batt_h \u001b[38;5;129;01min\u001b[39;00m cfg\u001b[38;5;241m.\u001b[39mbatt_hs:\n\u001b[0;32m---> 17\u001b[0m         basecost, cost_red, cost_red_pct, netcost_red \u001b[38;5;241m=\u001b[39m \u001b[43mcompare_to_s20\u001b[49m\u001b[43m(\u001b[49m\u001b[43mcfg\u001b[49m\u001b[43m,\u001b[49m\u001b[43msolar_kw\u001b[49m\u001b[43m,\u001b[49m\u001b[43mbatt_kw\u001b[49m\u001b[43m,\u001b[49m\u001b[43mbatt_h\u001b[49m\u001b[43m,\u001b[49m\u001b[43mprint_results\u001b[49m\u001b[38;5;241;43m=\u001b[39;49m\u001b[38;5;28;43;01mFalse\u001b[39;49;00m\u001b[43m)\u001b[49m\n\u001b[1;32m     18\u001b[0m         df\u001b[38;5;241m.\u001b[39mloc[\u001b[38;5;28mlen\u001b[39m(df)] \u001b[38;5;241m=\u001b[39m [solar_kw,batt_kw,batt_h,basecost]\u001b[38;5;241m+\u001b[39mcost_red\u001b[38;5;241m+\u001b[39mcost_red_pct\u001b[38;5;241m+\u001b[39mnetcost_red\n\u001b[1;32m     19\u001b[0m         df\u001b[38;5;241m.\u001b[39mto_csv(cfg\u001b[38;5;241m.\u001b[39moutdir\u001b[38;5;241m+\u001b[39m\u001b[38;5;124m'\u001b[39m\u001b[38;5;124mresults.csv\u001b[39m\u001b[38;5;124m'\u001b[39m,index\u001b[38;5;241m=\u001b[39m\u001b[38;5;28;01mFalse\u001b[39;00m)\n",
      "Cell \u001b[0;32mIn[2], line 84\u001b[0m, in \u001b[0;36mcompare_to_s20\u001b[0;34m(cfg, solar_kw, batt_kw, batt_h, print_results)\u001b[0m\n\u001b[1;32m     82\u001b[0m \u001b[38;5;28;01mfor\u001b[39;00m array \u001b[38;5;129;01min\u001b[39;00m cfg\u001b[38;5;241m.\u001b[39marrays:\n\u001b[1;32m     83\u001b[0m     post \u001b[38;5;241m=\u001b[39m create_post(cfg,\u001b[38;5;124mf\u001b[39m\u001b[38;5;124m'\u001b[39m\u001b[38;5;132;01m{\u001b[39;00marray\u001b[38;5;132;01m}\u001b[39;00m\u001b[38;5;124mw90\u001b[39m\u001b[38;5;124m'\u001b[39m,solar_kw,batt_kw,batt_h)\n\u001b[0;32m---> 84\u001b[0m     _, cost, netcost \u001b[38;5;241m=\u001b[39m \u001b[43mrun_reopt\u001b[49m\u001b[43m(\u001b[49m\u001b[43mpost\u001b[49m\u001b[43m,\u001b[49m\u001b[43mprint_results\u001b[49m\u001b[43m)\u001b[49m\n\u001b[1;32m     85\u001b[0m     cost_red\u001b[38;5;241m.\u001b[39mappend(        cost_base \u001b[38;5;241m-\u001b[39m cost)\n\u001b[1;32m     86\u001b[0m     cost_red_pct\u001b[38;5;241m.\u001b[39mappend(    \u001b[38;5;241m1\u001b[39m \u001b[38;5;241m-\u001b[39m cost\u001b[38;5;241m/\u001b[39m\u001b[38;5;28mabs\u001b[39m(cost_base))\n",
      "Cell \u001b[0;32mIn[2], line 58\u001b[0m, in \u001b[0;36mrun_reopt\u001b[0;34m(post, print_results)\u001b[0m\n\u001b[1;32m     55\u001b[0m \u001b[38;5;28;01mexcept\u001b[39;00m:\n\u001b[1;32m     56\u001b[0m     \u001b[38;5;28mprint\u001b[39m(\u001b[38;5;124m'\u001b[39m\u001b[38;5;124mAPI request failed\u001b[39m\u001b[38;5;124m'\u001b[39m)\n\u001b[0;32m---> 58\u001b[0m \u001b[38;5;28;01mif\u001b[39;00m \u001b[43mapi_response\u001b[49m \u001b[38;5;129;01mis\u001b[39;00m \u001b[38;5;129;01mnot\u001b[39;00m \u001b[38;5;28;01mNone\u001b[39;00m:\n\u001b[1;32m     59\u001b[0m     cost \u001b[38;5;241m=\u001b[39m      api_response[\u001b[38;5;124m\"\u001b[39m\u001b[38;5;124moutputs\u001b[39m\u001b[38;5;124m\"\u001b[39m][\u001b[38;5;124m\"\u001b[39m\u001b[38;5;124mElectricTariff\u001b[39m\u001b[38;5;124m\"\u001b[39m][\u001b[38;5;124m\"\u001b[39m\u001b[38;5;124myear_one_energy_cost_before_tax\u001b[39m\u001b[38;5;124m\"\u001b[39m]\n\u001b[1;32m     60\u001b[0m     revenue \u001b[38;5;241m=\u001b[39m   api_response[\u001b[38;5;124m\"\u001b[39m\u001b[38;5;124moutputs\u001b[39m\u001b[38;5;124m\"\u001b[39m][\u001b[38;5;124m\"\u001b[39m\u001b[38;5;124mElectricTariff\u001b[39m\u001b[38;5;124m\"\u001b[39m][\u001b[38;5;124m\"\u001b[39m\u001b[38;5;124myear_one_export_benefit_before_tax\u001b[39m\u001b[38;5;124m\"\u001b[39m]\n",
      "\u001b[0;31mUnboundLocalError\u001b[0m: cannot access local variable 'api_response' where it is not associated with a value"
     ]
    }
   ],
   "source": [
    "cols = ['SolarKW','BattKW','BattH','BaseCost']\n",
    "df = pd.DataFrame([],columns=cols   + [f'Reduc_{x}w90' for x in cfg.arrays]\\\n",
    "                                    + [f'Reduc%_{x}w90' for x in cfg.arrays]\\\n",
    "                                    + [f'NetReduc_{x}w90' for x in cfg.arrays])\n",
    "\n",
    "#best_cost_red_pct = 0\n",
    "#best_resp = None\n",
    "\n",
    "if cfg.test:\n",
    "    cfg.solar_kws   = [cfg.solar_kws[0]]\n",
    "    cfg.batt_kws    = [cfg.batt_kws[0]]\n",
    "    cfg.batt_hs     = [cfg.batt_hs[0]]\n",
    "\n",
    "for solar_kw in cfg.solar_kws:\n",
    "    for batt_kw in cfg.batt_kws:\n",
    "        for batt_h in cfg.batt_hs:\n",
    "            basecost, cost_red, cost_red_pct, netcost_red = compare_to_s20(cfg,solar_kw,batt_kw,batt_h,print_results=False)\n",
    "            df.loc[len(df)] = [solar_kw,batt_kw,batt_h,basecost]+cost_red+cost_red_pct+netcost_red\n",
    "            df.to_csv(cfg.outdir+'results.csv',index=False)\n",
    "            print(df.iloc[:,:7])\n",
    "            \n",
    "            # for x,r,n in zip(cost_red_pct,resp,arrays):\n",
    "            #     if x > best_cost_red_pct:\n",
    "            #         best_cost_red_pct = x\n",
    "            #         best_resp = r\n",
    "            #         df.iloc[-1,:].to_csv(f'outputs/best_result_{n}.csv')\n",
    "            \n",
    "df"
   ]
  },
  {
   "cell_type": "markdown",
   "metadata": {},
   "source": [
    "# Plot"
   ]
  },
  {
   "cell_type": "code",
   "execution_count": null,
   "metadata": {},
   "outputs": [],
   "source": [
    "# dispatch = parse_dispatch_series(api_response)\n",
    "# f = plotly_stacked(dispatch,solar='pv',load='load',batt='batt',utility='grid',soc='soc',theme='plotly_dark')"
   ]
  }
 ],
 "metadata": {
  "@webio": {
   "lastCommId": null,
   "lastKernelId": null
  },
  "kernelspec": {
   "display_name": "Python 3",
   "language": "python",
   "name": "python3"
  },
  "language_info": {
   "codemirror_mode": {
    "name": "ipython",
    "version": 3
   },
   "file_extension": ".py",
   "mimetype": "text/x-python",
   "name": "python",
   "nbconvert_exporter": "python",
   "pygments_lexer": "ipython3",
   "version": "3.11.0"
  },
  "latex_envs": {
   "LaTeX_envs_menu_present": true,
   "autoclose": false,
   "autocomplete": true,
   "bibliofile": "biblio.bib",
   "cite_by": "apalike",
   "current_citInitial": 1,
   "eqLabelWithNumbers": true,
   "eqNumInitial": 1,
   "hotkeys": {
    "equation": "Ctrl-E",
    "itemize": "Ctrl-I"
   },
   "labels_anchors": false,
   "latex_user_defs": false,
   "report_style_numbering": false,
   "user_envs_cfg": false
  }
 },
 "nbformat": 4,
 "nbformat_minor": 4
}
